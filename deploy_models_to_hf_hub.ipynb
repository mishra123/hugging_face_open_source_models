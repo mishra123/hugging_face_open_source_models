{
 "cells": [
  {
   "cell_type": "code",
   "execution_count": 1,
   "id": "3089bb1b-dac6-4d06-9c01-87fc0b246ac4",
   "metadata": {},
   "outputs": [],
   "source": [
    "# Using Gradio"
   ]
  },
  {
   "cell_type": "code",
   "execution_count": null,
   "id": "1df03184-dc2a-437d-824d-34c9baa862f1",
   "metadata": {},
   "outputs": [],
   "source": [
    "# We are deploying BLIP model to HF so that we can acccess it via API"
   ]
  },
  {
   "cell_type": "code",
   "execution_count": 2,
   "id": "85fb5749-faee-4bee-b395-0114a754ef81",
   "metadata": {},
   "outputs": [],
   "source": [
    "## Create your account in Hugging Face Portal"
   ]
  },
  {
   "cell_type": "code",
   "execution_count": 3,
   "id": "5e6c967b-beb6-46c3-82f8-4f5321a880d0",
   "metadata": {},
   "outputs": [
    {
     "name": "stderr",
     "output_type": "stream",
     "text": [
      "/Users/anoopmishra/Repositories/anoop/HuggingFace/.venv/lib/python3.13/site-packages/tqdm/auto.py:21: TqdmWarning: IProgress not found. Please update jupyter and ipywidgets. See https://ipywidgets.readthedocs.io/en/stable/user_install.html\n",
      "  from .autonotebook import tqdm as notebook_tqdm\n"
     ]
    }
   ],
   "source": [
    "from transformers.utils import logging\n",
    "logging.set_verbosity_error()\n",
    "\n",
    "import warnings\n",
    "warnings.filterwarnings(\"ignore\", \n",
    "                        message=\"Using the model-agnostic default `max_length`\")"
   ]
  },
  {
   "cell_type": "code",
   "execution_count": 4,
   "id": "0b26658a-4875-4bde-bc80-968eb2792a58",
   "metadata": {},
   "outputs": [],
   "source": [
    "import os\n",
    "import gradio as gr\n",
    "from transformers import pipeline"
   ]
  },
  {
   "cell_type": "code",
   "execution_count": 5,
   "id": "9e28c9cf-1330-4c64-af6e-ec063a1b8c94",
   "metadata": {},
   "outputs": [],
   "source": [
    "pipe = pipeline(\"image-to-text\",\n",
    "                model=\"Salesforce/blip-image-captioning-base\")"
   ]
  },
  {
   "cell_type": "code",
   "execution_count": 6,
   "id": "acaf51c5-abc1-4c9b-a3f4-e80bbc4bf05f",
   "metadata": {},
   "outputs": [],
   "source": [
    "def launch(input):\n",
    "    out = pipe(input)\n",
    "    return out[0]['generated_text']"
   ]
  },
  {
   "cell_type": "code",
   "execution_count": 7,
   "id": "96f19a50-998b-455e-acea-d7a46b569acd",
   "metadata": {},
   "outputs": [],
   "source": [
    "iface = gr.Interface(launch,\n",
    "                     inputs=gr.Image(type='pil'),\n",
    "                     outputs=\"text\")"
   ]
  },
  {
   "cell_type": "code",
   "execution_count": 10,
   "id": "e1617689-01ce-480a-8e99-d90bb4f5ff5e",
   "metadata": {},
   "outputs": [
    {
     "name": "stdout",
     "output_type": "stream",
     "text": [
      "Rerunning server... use `close()` to stop if you need to change `launch()` parameters.\n",
      "----\n",
      "* Running on public URL: https://7be5d22197671e01f4.gradio.live\n",
      "\n",
      "This share link expires in 1 week. For free permanent hosting and GPU upgrades, run `gradio deploy` from the terminal in the working directory to deploy to Hugging Face Spaces (https://huggingface.co/spaces)\n"
     ]
    },
    {
     "data": {
      "text/html": [
       "<div><iframe src=\"https://7be5d22197671e01f4.gradio.live\" width=\"100%\" height=\"500\" allow=\"autoplay; camera; microphone; clipboard-read; clipboard-write;\" frameborder=\"0\" allowfullscreen></iframe></div>"
      ],
      "text/plain": [
       "<IPython.core.display.HTML object>"
      ]
     },
     "metadata": {},
     "output_type": "display_data"
    },
    {
     "data": {
      "text/plain": []
     },
     "execution_count": 10,
     "metadata": {},
     "output_type": "execute_result"
    }
   ],
   "source": [
    "iface.launch(share=True, \n",
    "             server_port=int(\"8080\"))"
   ]
  },
  {
   "cell_type": "code",
   "execution_count": null,
   "id": "c9243028-e7ee-433e-a60a-85669b035e53",
   "metadata": {},
   "outputs": [],
   "source": []
  },
  {
   "cell_type": "code",
   "execution_count": 11,
   "id": "2a1d7bef-3858-4f58-9a44-480306d734a0",
   "metadata": {},
   "outputs": [
    {
     "name": "stdout",
     "output_type": "stream",
     "text": [
      "Closing server running on port: 8080\n"
     ]
    }
   ],
   "source": [
    "iface.close()"
   ]
  },
  {
   "cell_type": "code",
   "execution_count": null,
   "id": "4f3fdbfb-c04c-478a-88da-04b51dc5d2be",
   "metadata": {},
   "outputs": [],
   "source": []
  }
 ],
 "metadata": {
  "kernelspec": {
   "display_name": "venv",
   "language": "python",
   "name": "venv"
  },
  "language_info": {
   "codemirror_mode": {
    "name": "ipython",
    "version": 3
   },
   "file_extension": ".py",
   "mimetype": "text/x-python",
   "name": "python",
   "nbconvert_exporter": "python",
   "pygments_lexer": "ipython3",
   "version": "3.13.3"
  }
 },
 "nbformat": 4,
 "nbformat_minor": 5
}
