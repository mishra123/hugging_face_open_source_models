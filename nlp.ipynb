{
 "cells": [
  {
   "cell_type": "code",
   "execution_count": 1,
   "id": "6fd1fc91-a740-4b37-a0b5-06ee6857a83a",
   "metadata": {},
   "outputs": [
    {
     "name": "stderr",
     "output_type": "stream",
     "text": [
      "/Users/anoopmishra/Repositories/anoop/HuggingFace/.venv/lib/python3.13/site-packages/tqdm/auto.py:21: TqdmWarning: IProgress not found. Please update jupyter and ipywidgets. See https://ipywidgets.readthedocs.io/en/stable/user_install.html\n",
      "  from .autonotebook import tqdm as notebook_tqdm\n"
     ]
    }
   ],
   "source": [
    "from transformers import pipeline"
   ]
  },
  {
   "cell_type": "code",
   "execution_count": 2,
   "id": "22ac782b-6e16-46e9-9582-3d22da2327b8",
   "metadata": {},
   "outputs": [],
   "source": [
    "import torch\n",
    "torch.mps.empty_cache()"
   ]
  },
  {
   "cell_type": "code",
   "execution_count": 12,
   "id": "bba5129a-7f88-468a-a1b2-bbc2e81f4c9c",
   "metadata": {},
   "outputs": [
    {
     "name": "stderr",
     "output_type": "stream",
     "text": [
      "Device set to use mps:0\n"
     ]
    },
    {
     "name": "stdout",
     "output_type": "stream",
     "text": [
      "Response: {'generated_text': ' You can learn it by watching videos on the internet.  There are so many ways to do it now.'}\n"
     ]
    }
   ],
   "source": [
    "\n",
    "\n",
    "pipe = pipeline(\"text2text-generation\", model=\"facebook/blenderbot-400M-distill\", device=0)\n",
    "user_message = \"\"\"\n",
    "How can I learn AI quickly?\"\n",
    "\"\"\"\n",
    "\n",
    "# Generate a response\n",
    "response = pipe(user_message)\n",
    "\n",
    "# Print the model's reply\n",
    "print(\"Response:\", response[0]['generated_text'])"
   ]
  },
  {
   "cell_type": "code",
   "execution_count": 14,
   "id": "793518d5-1090-462e-9ad4-d0a4ffc28e42",
   "metadata": {},
   "outputs": [
    {
     "name": "stdout",
     "output_type": "stream",
     "text": [
      "[{'generated_text': ' You can find them on Youtube.  There are a lot of good ones.'}]\n"
     ]
    }
   ],
   "source": [
    "\n",
    "user_message = \"\"\"\n",
    "Where can I get these videos from?\n",
    "\"\"\"\n",
    "response = pipe(user_message)\n",
    "\n",
    "print(response)"
   ]
  },
  {
   "cell_type": "code",
   "execution_count": 15,
   "id": "71094a9f-9e3c-44db-8454-9ff0ec685928",
   "metadata": {},
   "outputs": [
    {
     "name": "stdout",
     "output_type": "stream",
     "text": [
      "[{'generated_text': \" Yes, I have a few of them.  I have some that I've been collecting for a few years now.\"}]\n"
     ]
    }
   ],
   "source": [
    "user_message = \"\"\"\n",
    "Can you give links of some of them?\n",
    "\"\"\"\n",
    "response = pipe(user_message)\n",
    "\n",
    "print(response)"
   ]
  },
  {
   "cell_type": "code",
   "execution_count": 16,
   "id": "193d82bc-69ac-4239-8c07-565810c05ac5",
   "metadata": {},
   "outputs": [
    {
     "name": "stdout",
     "output_type": "stream",
     "text": [
      "[{'generated_text': \" I'll try to help you find them.  They are the ones that you can find on the internet.\"}]\n"
     ]
    }
   ],
   "source": [
    "user_message = \"\"\"\n",
    "Tell me the names of them, I will search myself\n",
    "\"\"\"\n",
    "response = pipe(user_message)\n",
    "\n",
    "print(response)"
   ]
  },
  {
   "cell_type": "code",
   "execution_count": 17,
   "id": "6a5604ae-54ca-4d2e-a401-67072a150eaa",
   "metadata": {},
   "outputs": [
    {
     "name": "stdout",
     "output_type": "stream",
     "text": [
      "[{'generated_text': ' Well, I think the most important thing would be to learn how to play the piano.'}]\n"
     ]
    }
   ],
   "source": [
    "user_message = \"\"\"\n",
    "What are the technologies that I should learn to achieve this goal?\n",
    "\"\"\"\n",
    "response = pipe(user_message)\n",
    "\n",
    "print(response)"
   ]
  },
  {
   "cell_type": "code",
   "execution_count": 3,
   "id": "aa5530bf-593a-4b9c-9f60-b0d1314f9159",
   "metadata": {},
   "outputs": [
    {
     "name": "stderr",
     "output_type": "stream",
     "text": [
      "Device set to use mps:0\n"
     ]
    },
    {
     "name": "stdout",
     "output_type": "stream",
     "text": [
      " I'm not sure, but I do know that you can learn it in a variety of ways.\n"
     ]
    }
   ],
   "source": [
    "# The facebook/blenderbot-400M-distill model is designed for conversation, but the text2text-generation pipeline does not automatically manage multi-turn dialogue history."
   ]
  }
 ],
 "metadata": {
  "kernelspec": {
   "display_name": "venv",
   "language": "python",
   "name": "venv"
  },
  "language_info": {
   "codemirror_mode": {
    "name": "ipython",
    "version": 3
   },
   "file_extension": ".py",
   "mimetype": "text/x-python",
   "name": "python",
   "nbconvert_exporter": "python",
   "pygments_lexer": "ipython3",
   "version": "3.13.3"
  }
 },
 "nbformat": 4,
 "nbformat_minor": 5
}
