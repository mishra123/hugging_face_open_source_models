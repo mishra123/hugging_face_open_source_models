{
 "cells": [
  {
   "cell_type": "code",
   "execution_count": 6,
   "id": "84c3f65f-c083-484e-9289-797fdd52c94d",
   "metadata": {},
   "outputs": [],
   "source": [
    "from transformers import pipeline\n",
    "import torch"
   ]
  },
  {
   "cell_type": "code",
   "execution_count": 11,
   "id": "e7f81e73-e403-4652-bbf3-ddae98cf68ff",
   "metadata": {},
   "outputs": [
    {
     "name": "stderr",
     "output_type": "stream",
     "text": [
      "Device set to use mps:0\n"
     ]
    }
   ],
   "source": [
    "translator = pipeline(task=\"translation\", model=\"facebook/nllb-200-distilled-600M\", torch_dtype=torch.bfloat16)\n",
    "# nnlb stands for \"no knowledge left behind\""
   ]
  },
  {
   "cell_type": "code",
   "execution_count": 12,
   "id": "f92aaf6e-348f-4537-a062-e2f995f91f13",
   "metadata": {},
   "outputs": [],
   "source": [
    "text = \"\"\"\n",
    "Australia is a vast and diverse country known for its stunning natural landscapes, vibrant cities, and unique wildlife. \n",
    "Located in the Southern Hemisphere, it is both a continent and a country, surrounded by the Indian and Pacific Oceans. \n",
    "From the iconic Sydney Opera House and Great Barrier Reef to the expansive Outback and ancient Aboriginal culture, \n",
    "Australia offers a rich blend of modern life and deep-rooted traditions. \n",
    "It is also known for its high quality of life, outdoor lifestyle, and multicultural society.\n",
    "\"\"\"\n"
   ]
  },
  {
   "cell_type": "code",
   "execution_count": 14,
   "id": "cbec14b3-8891-4182-a423-c38cff028f52",
   "metadata": {},
   "outputs": [],
   "source": [
    "translated_text = translator(text, src_lang=\"eng_Latn\", tgt_lang=\"hin_Deva\")"
   ]
  },
  {
   "cell_type": "code",
   "execution_count": 15,
   "id": "ae7f6861-9aa7-481f-9f9d-712e3f08a64f",
   "metadata": {},
   "outputs": [
    {
     "name": "stdout",
     "output_type": "stream",
     "text": [
      "[{'translation_text': 'ऑस्ट्रेलिया एक विशाल और विविध देश है जो अपने अद्भुत प्राकृतिक परिदृश्यों, जीवंत शहरों और अद्वितीय वन्यजीवों के लिए जाना जाता है। दक्षिणी गोलार्ध में स्थित, यह एक महाद्वीप और एक देश दोनों है, जो भारतीय और प्रशांत महासागरों से घिरा हुआ है। सिडनी ओपेरा हाउस और ग्रेट बैरियर रीफ से लेकर विशाल आउटबैक और प्राचीन आदिवासी संस्कृति तक, ऑस्ट्रेलिया आधुनिक जीवन और गहरे जड़ों वाली परंपराओं का एक समृद्ध मिश्रण प्रदान करता है। यह अपने उच्च गुणवत्ता वाले जीवन, बाहरी जीवन शैली और बहुसांस्कृतिक समाज के लिए भी जाना जाता है। '}]\n"
     ]
    }
   ],
   "source": [
    "print(translated_text)"
   ]
  },
  {
   "cell_type": "code",
   "execution_count": null,
   "id": "f47afbde-97d3-42c6-8128-d897648d1f84",
   "metadata": {},
   "outputs": [],
   "source": []
  }
 ],
 "metadata": {
  "kernelspec": {
   "display_name": "venv",
   "language": "python",
   "name": "venv"
  },
  "language_info": {
   "codemirror_mode": {
    "name": "ipython",
    "version": 3
   },
   "file_extension": ".py",
   "mimetype": "text/x-python",
   "name": "python",
   "nbconvert_exporter": "python",
   "pygments_lexer": "ipython3",
   "version": "3.13.3"
  }
 },
 "nbformat": 4,
 "nbformat_minor": 5
}
