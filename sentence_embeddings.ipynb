{
 "cells": [
  {
   "cell_type": "code",
   "execution_count": 1,
   "id": "2bd8cc1c-0e8e-420a-a571-b3fc93a7e522",
   "metadata": {},
   "outputs": [
    {
     "name": "stderr",
     "output_type": "stream",
     "text": [
      "/Users/anoopmishra/Repositories/anoop/HuggingFace/.venv/lib/python3.13/site-packages/tqdm/auto.py:21: TqdmWarning: IProgress not found. Please update jupyter and ipywidgets. See https://ipywidgets.readthedocs.io/en/stable/user_install.html\n",
      "  from .autonotebook import tqdm as notebook_tqdm\n"
     ]
    }
   ],
   "source": [
    "from transformers.utils import logging\n",
    "logging.set_verbosity_error()"
   ]
  },
  {
   "cell_type": "code",
   "execution_count": 2,
   "id": "76e62f82-1e0e-4172-9d95-6af4b1fb849a",
   "metadata": {},
   "outputs": [],
   "source": [
    "from sentence_transformers import SentenceTransformer"
   ]
  },
  {
   "cell_type": "code",
   "execution_count": 12,
   "id": "2ff18460-5a35-434d-ac09-4d7a3cbafed0",
   "metadata": {},
   "outputs": [],
   "source": [
    "from sentence_transformers import util"
   ]
  },
  {
   "cell_type": "code",
   "execution_count": 3,
   "id": "96fa650a-3489-4d38-a0d8-d7ce2f29a4b6",
   "metadata": {},
   "outputs": [],
   "source": [
    "model = SentenceTransformer(\"all-MiniLM-L6-v2\")\n",
    "\n",
    "#https://huggingface.co/sentence-transformers/all-MiniLM-L6-v2"
   ]
  },
  {
   "cell_type": "code",
   "execution_count": 5,
   "id": "da035097-60d7-49a3-a389-74ef23bfb25a",
   "metadata": {},
   "outputs": [],
   "source": [
    "sentences1 = ['I went to school',\n",
    "              'My mother lives in a village',\n",
    "              'I have many children']"
   ]
  },
  {
   "cell_type": "code",
   "execution_count": 7,
   "id": "868351ac-230f-4b99-b630-7c9bc226ecc1",
   "metadata": {},
   "outputs": [],
   "source": [
    "sentences2 = ['I studied in a university',\n",
    "              'Lets go for a walk', \n",
    "              'Babies are innocent'] "
   ]
  },
  {
   "cell_type": "code",
   "execution_count": 8,
   "id": "7fad5875-0df9-4d78-9425-0a7483c13c40",
   "metadata": {},
   "outputs": [],
   "source": [
    "embeddings1 = model.encode(sentences1, convert_to_tensor=True)\n",
    "embeddings2 = model.encode(sentences2, convert_to_tensor=True)"
   ]
  },
  {
   "cell_type": "code",
   "execution_count": 10,
   "id": "b5691411-10a6-439c-9687-5e29515d5d9e",
   "metadata": {},
   "outputs": [
    {
     "data": {
      "text/plain": [
       "tensor([[ 0.0241,  0.0328,  0.0422,  ...,  0.0172, -0.0383, -0.0409],\n",
       "        [ 0.0769, -0.0043, -0.0216,  ...,  0.0482, -0.0595, -0.1005],\n",
       "        [-0.0087, -0.0430,  0.0355,  ..., -0.0220, -0.0832, -0.0383]],\n",
       "       device='mps:0')"
      ]
     },
     "execution_count": 10,
     "metadata": {},
     "output_type": "execute_result"
    }
   ],
   "source": [
    "embeddings1"
   ]
  },
  {
   "cell_type": "code",
   "execution_count": 11,
   "id": "e5c4a62c-a275-49a4-abe3-e2739c5b8d6a",
   "metadata": {},
   "outputs": [
    {
     "data": {
      "text/plain": [
       "tensor([[ 0.0474,  0.0045,  0.0677,  ..., -0.0197, -0.0465, -0.0649],\n",
       "        [-0.0498, -0.0409,  0.0511,  ..., -0.0970,  0.0184, -0.0453],\n",
       "        [-0.0069,  0.0634, -0.0416,  ..., -0.0072,  0.1586, -0.0402]],\n",
       "       device='mps:0')"
      ]
     },
     "execution_count": 11,
     "metadata": {},
     "output_type": "execute_result"
    }
   ],
   "source": [
    "embeddings2"
   ]
  },
  {
   "cell_type": "code",
   "execution_count": 13,
   "id": "28f9d64b-e911-47cb-b74c-9b2c0d62f219",
   "metadata": {},
   "outputs": [],
   "source": [
    "cosine_similarity = util.cos_sim(embeddings1,embeddings2)"
   ]
  },
  {
   "cell_type": "code",
   "execution_count": 14,
   "id": "a97d7b03-8cce-4aa0-b56d-7b569b085f17",
   "metadata": {},
   "outputs": [
    {
     "data": {
      "text/plain": [
       "tensor([[0.5706, 0.2051, 0.0728],\n",
       "        [0.2463, 0.1066, 0.1235],\n",
       "        [0.2279, 0.0995, 0.2541]], device='mps:0')"
      ]
     },
     "execution_count": 14,
     "metadata": {},
     "output_type": "execute_result"
    }
   ],
   "source": [
    "cosine_similarity"
   ]
  },
  {
   "cell_type": "code",
   "execution_count": 16,
   "id": "e76b4271-7627-4016-ba3c-a6089f15cc17",
   "metadata": {},
   "outputs": [
    {
     "name": "stdout",
     "output_type": "stream",
     "text": [
      "I went to school \t\t I studied in a university \t\t Score: 0.5706\n",
      "My mother lives in a village \t\t Lets go for a walk \t\t Score: 0.1066\n",
      "I have many children \t\t Babies are innocent \t\t Score: 0.2541\n"
     ]
    }
   ],
   "source": [
    "for i in range(len(sentences1)):\n",
    "    print(\"{} \\t\\t {} \\t\\t Score: {:.4f}\".format(sentences1[i],\n",
    "                                                 sentences2[i],\n",
    "                                                 cosine_similarity[i][i]))"
   ]
  },
  {
   "cell_type": "code",
   "execution_count": null,
   "id": "f90cb801-9212-4eef-af12-012e45d16fd4",
   "metadata": {},
   "outputs": [],
   "source": []
  }
 ],
 "metadata": {
  "kernelspec": {
   "display_name": "venv",
   "language": "python",
   "name": "venv"
  },
  "language_info": {
   "codemirror_mode": {
    "name": "ipython",
    "version": 3
   },
   "file_extension": ".py",
   "mimetype": "text/x-python",
   "name": "python",
   "nbconvert_exporter": "python",
   "pygments_lexer": "ipython3",
   "version": "3.13.3"
  }
 },
 "nbformat": 4,
 "nbformat_minor": 5
}
