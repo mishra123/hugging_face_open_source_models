{
 "cells": [
  {
   "cell_type": "code",
   "execution_count": 1,
   "id": "51d27317-8d50-4da8-bc37-4b117255b44b",
   "metadata": {},
   "outputs": [],
   "source": [
    "#Whisper model from openAI"
   ]
  },
  {
   "cell_type": "code",
   "execution_count": 2,
   "id": "ca5bdff1-c952-4a97-9dac-2f8826954ea2",
   "metadata": {},
   "outputs": [],
   "source": [
    " # !pip install transformers\n",
    " #  !pip install -U datasets\n",
    " #  !pip install soundfile\n",
    " #  !pip install librosa\n",
    " #  !pip install gradio"
   ]
  },
  {
   "cell_type": "code",
   "execution_count": 3,
   "id": "f40535b4-be3f-4a87-804d-7f3a8eea1dcd",
   "metadata": {},
   "outputs": [
    {
     "name": "stderr",
     "output_type": "stream",
     "text": [
      "/Users/anoopmishra/Repositories/anoop/HuggingFace/.venv/lib/python3.13/site-packages/tqdm/auto.py:21: TqdmWarning: IProgress not found. Please update jupyter and ipywidgets. See https://ipywidgets.readthedocs.io/en/stable/user_install.html\n",
      "  from .autonotebook import tqdm as notebook_tqdm\n"
     ]
    }
   ],
   "source": [
    "from datasets import load_dataset"
   ]
  },
  {
   "cell_type": "code",
   "execution_count": 4,
   "id": "50db7080-e8e9-4dc8-a974-e5c3f2d5cd1b",
   "metadata": {},
   "outputs": [],
   "source": [
    "#dataset taken from Hugging face hub\n",
    "dataset = load_dataset(\"librispeech_asr\",\n",
    "                       split=\"train.clean.100\",\n",
    "                       streaming=True,\n",
    "                       trust_remote_code=True)"
   ]
  },
  {
   "cell_type": "code",
   "execution_count": 5,
   "id": "5b27223f-1cc5-4abe-97f1-39ee012360b3",
   "metadata": {},
   "outputs": [],
   "source": [
    "example = next(iter(dataset))"
   ]
  },
  {
   "cell_type": "code",
   "execution_count": 6,
   "id": "c8018862-f3ff-4e81-a815-2f4416ff3bc5",
   "metadata": {},
   "outputs": [
    {
     "data": {
      "text/plain": [
       "[{'file': '374-180298-0000.flac',\n",
       "  'audio': {'path': '374-180298-0000.flac',\n",
       "   'array': array([ 7.01904297e-04,  7.32421875e-04,  7.32421875e-04, ...,\n",
       "          -2.74658203e-04, -1.83105469e-04, -3.05175781e-05], shape=(232480,)),\n",
       "   'sampling_rate': 16000},\n",
       "  'text': 'CHAPTER SIXTEEN I MIGHT HAVE TOLD YOU OF THE BEGINNING OF THIS LIAISON IN A FEW LINES BUT I WANTED YOU TO SEE EVERY STEP BY WHICH WE CAME I TO AGREE TO WHATEVER MARGUERITE WISHED',\n",
       "  'speaker_id': 374,\n",
       "  'chapter_id': 180298,\n",
       "  'id': '374-180298-0000'},\n",
       " {'file': '374-180298-0001.flac',\n",
       "  'audio': {'path': '374-180298-0001.flac',\n",
       "   'array': array([-9.15527344e-05, -1.52587891e-04, -1.52587891e-04, ...,\n",
       "          -2.13623047e-04, -1.83105469e-04, -2.74658203e-04], shape=(257360,)),\n",
       "   'sampling_rate': 16000},\n",
       "  'text': \"MARGUERITE TO BE UNABLE TO LIVE APART FROM ME IT WAS THE DAY AFTER THE EVENING WHEN SHE CAME TO SEE ME THAT I SENT HER MANON LESCAUT FROM THAT TIME SEEING THAT I COULD NOT CHANGE MY MISTRESS'S LIFE I CHANGED MY OWN\",\n",
       "  'speaker_id': 374,\n",
       "  'chapter_id': 180298,\n",
       "  'id': '374-180298-0001'},\n",
       " {'file': '374-180298-0002.flac',\n",
       "  'audio': {'path': '374-180298-0002.flac',\n",
       "   'array': array([-2.44140625e-04, -2.44140625e-04, -1.83105469e-04, ...,\n",
       "           1.83105469e-04,  3.05175781e-05, -1.52587891e-04], shape=(212720,)),\n",
       "   'sampling_rate': 16000},\n",
       "  'text': 'I WISHED ABOVE ALL NOT TO LEAVE MYSELF TIME TO THINK OVER THE POSITION I HAD ACCEPTED FOR IN SPITE OF MYSELF IT WAS A GREAT DISTRESS TO ME THUS MY LIFE GENERALLY SO CALM',\n",
       "  'speaker_id': 374,\n",
       "  'chapter_id': 180298,\n",
       "  'id': '374-180298-0002'},\n",
       " {'file': '374-180298-0003.flac',\n",
       "  'audio': {'path': '374-180298-0003.flac',\n",
       "   'array': array([-0.00024414, -0.00039673, -0.00057983, ...,  0.00018311,\n",
       "           0.00024414,  0.00024414], shape=(178000,)),\n",
       "   'sampling_rate': 16000},\n",
       "  'text': 'ASSUMED ALL AT ONCE AN APPEARANCE OF NOISE AND DISORDER NEVER BELIEVE HOWEVER DISINTERESTED THE LOVE OF A KEPT WOMAN MAY BE THAT IT WILL COST ONE NOTHING',\n",
       "  'speaker_id': 374,\n",
       "  'chapter_id': 180298,\n",
       "  'id': '374-180298-0003'},\n",
       " {'file': '374-180298-0004.flac',\n",
       "  'audio': {'path': '374-180298-0004.flac',\n",
       "   'array': array([0.00027466, 0.00030518, 0.00021362, ..., 0.00015259, 0.00015259,\n",
       "          0.00015259], shape=(225280,)),\n",
       "   'sampling_rate': 16000},\n",
       "  'text': \"NOTHING IS SO EXPENSIVE AS THEIR CAPRICES FLOWERS BOXES AT THE THEATRE SUPPERS DAYS IN THE COUNTRY WHICH ONE CAN NEVER REFUSE TO ONE'S MISTRESS AS I HAVE TOLD YOU I HAD LITTLE MONEY\",\n",
       "  'speaker_id': 374,\n",
       "  'chapter_id': 180298,\n",
       "  'id': '374-180298-0004'}]"
      ]
     },
     "execution_count": 6,
     "metadata": {},
     "output_type": "execute_result"
    }
   ],
   "source": [
    "dataset_head = dataset.take(5)\n",
    "list(dataset_head)"
   ]
  },
  {
   "cell_type": "code",
   "execution_count": 7,
   "id": "b3a9d414-6885-4f5c-ae27-aae34d40e84c",
   "metadata": {},
   "outputs": [
    {
     "data": {
      "text/plain": [
       "{'file': '374-180298-0002.flac',\n",
       " 'audio': {'path': '374-180298-0002.flac',\n",
       "  'array': array([-2.44140625e-04, -2.44140625e-04, -1.83105469e-04, ...,\n",
       "          1.83105469e-04,  3.05175781e-05, -1.52587891e-04], shape=(212720,)),\n",
       "  'sampling_rate': 16000},\n",
       " 'text': 'I WISHED ABOVE ALL NOT TO LEAVE MYSELF TIME TO THINK OVER THE POSITION I HAD ACCEPTED FOR IN SPITE OF MYSELF IT WAS A GREAT DISTRESS TO ME THUS MY LIFE GENERALLY SO CALM',\n",
       " 'speaker_id': 374,\n",
       " 'chapter_id': 180298,\n",
       " 'id': '374-180298-0002'}"
      ]
     },
     "execution_count": 7,
     "metadata": {},
     "output_type": "execute_result"
    }
   ],
   "source": [
    "list(dataset_head)[2]"
   ]
  },
  {
   "cell_type": "code",
   "execution_count": 8,
   "id": "2db96e57-a355-427e-97e7-54b2ea85b9d7",
   "metadata": {},
   "outputs": [
    {
     "data": {
      "text/plain": [
       "{'file': '374-180298-0000.flac',\n",
       " 'audio': {'path': '374-180298-0000.flac',\n",
       "  'array': array([ 7.01904297e-04,  7.32421875e-04,  7.32421875e-04, ...,\n",
       "         -2.74658203e-04, -1.83105469e-04, -3.05175781e-05], shape=(232480,)),\n",
       "  'sampling_rate': 16000},\n",
       " 'text': 'CHAPTER SIXTEEN I MIGHT HAVE TOLD YOU OF THE BEGINNING OF THIS LIAISON IN A FEW LINES BUT I WANTED YOU TO SEE EVERY STEP BY WHICH WE CAME I TO AGREE TO WHATEVER MARGUERITE WISHED',\n",
       " 'speaker_id': 374,\n",
       " 'chapter_id': 180298,\n",
       " 'id': '374-180298-0000'}"
      ]
     },
     "execution_count": 8,
     "metadata": {},
     "output_type": "execute_result"
    }
   ],
   "source": [
    "example"
   ]
  },
  {
   "cell_type": "code",
   "execution_count": 9,
   "id": "0545c999-e063-4d4c-a11c-d558c7699479",
   "metadata": {},
   "outputs": [],
   "source": [
    "from transformers import pipeline"
   ]
  },
  {
   "cell_type": "code",
   "execution_count": 10,
   "id": "c91e20c3-5dcf-4c9e-a29f-012dba5033f4",
   "metadata": {},
   "outputs": [
    {
     "name": "stderr",
     "output_type": "stream",
     "text": [
      "Device set to use mps:0\n"
     ]
    }
   ],
   "source": [
    "# Use a pipeline as a high-level helper\n",
    "pipe = pipeline(\"automatic-speech-recognition\", model=\"distil-whisper/distil-small.en\")"
   ]
  },
  {
   "cell_type": "code",
   "execution_count": 11,
   "id": "525bf548-3202-4982-94b6-cb6ff18bf39e",
   "metadata": {},
   "outputs": [
    {
     "data": {
      "text/plain": [
       "16000"
      ]
     },
     "execution_count": 11,
     "metadata": {},
     "output_type": "execute_result"
    }
   ],
   "source": [
    "pipe.feature_extractor.sampling_rate"
   ]
  },
  {
   "cell_type": "code",
   "execution_count": 12,
   "id": "e3d92022-fc9a-4e50-bf67-44b8e7f50b1e",
   "metadata": {},
   "outputs": [],
   "source": [
    "# check our audio sampling rate"
   ]
  },
  {
   "cell_type": "code",
   "execution_count": 14,
   "id": "3c0a1995-d06b-40cc-8261-a3d0134c0296",
   "metadata": {},
   "outputs": [
    {
     "data": {
      "text/plain": [
       "16000"
      ]
     },
     "execution_count": 14,
     "metadata": {},
     "output_type": "execute_result"
    }
   ],
   "source": [
    "example[\"audio\"][\"sampling_rate\"]"
   ]
  },
  {
   "cell_type": "code",
   "execution_count": 15,
   "id": "52ca9c34-b303-47ac-9de2-8138e093a535",
   "metadata": {},
   "outputs": [],
   "source": [
    "# it's the same, we can pass as it is"
   ]
  },
  {
   "cell_type": "code",
   "execution_count": 16,
   "id": "fbef39d7-cd84-426b-9f99-7fdd123eb952",
   "metadata": {},
   "outputs": [
    {
     "name": "stderr",
     "output_type": "stream",
     "text": [
      "/Users/anoopmishra/Repositories/anoop/HuggingFace/.venv/lib/python3.13/site-packages/transformers/models/whisper/generation_whisper.py:573: FutureWarning: The input name `inputs` is deprecated. Please make sure to use `input_features` instead.\n",
      "  warnings.warn(\n"
     ]
    },
    {
     "data": {
      "text/plain": [
       "{'text': ' Chapter 16 I might have told you of the beginning of this liaison in a few lines, but I wanted you to see every step by which we came. I too agree to whatever Marguerite wished.'}"
      ]
     },
     "execution_count": 16,
     "metadata": {},
     "output_type": "execute_result"
    }
   ],
   "source": [
    "pipe(example[\"audio\"][\"array\"])"
   ]
  },
  {
   "cell_type": "code",
   "execution_count": 17,
   "id": "6133cf4b-b389-4e9b-a9af-91e4702fae4f",
   "metadata": {},
   "outputs": [
    {
     "data": {
      "text/plain": [
       "'CHAPTER SIXTEEN I MIGHT HAVE TOLD YOU OF THE BEGINNING OF THIS LIAISON IN A FEW LINES BUT I WANTED YOU TO SEE EVERY STEP BY WHICH WE CAME I TO AGREE TO WHATEVER MARGUERITE WISHED'"
      ]
     },
     "execution_count": 17,
     "metadata": {},
     "output_type": "execute_result"
    }
   ],
   "source": [
    "example[\"text\"]"
   ]
  },
  {
   "cell_type": "code",
   "execution_count": null,
   "id": "e61b3a01-087e-4fc6-a2a6-75bdc2daf458",
   "metadata": {},
   "outputs": [],
   "source": []
  }
 ],
 "metadata": {
  "kernelspec": {
   "display_name": "venv",
   "language": "python",
   "name": "venv"
  },
  "language_info": {
   "codemirror_mode": {
    "name": "ipython",
    "version": 3
   },
   "file_extension": ".py",
   "mimetype": "text/x-python",
   "name": "python",
   "nbconvert_exporter": "python",
   "pygments_lexer": "ipython3",
   "version": "3.13.3"
  }
 },
 "nbformat": 4,
 "nbformat_minor": 5
}
