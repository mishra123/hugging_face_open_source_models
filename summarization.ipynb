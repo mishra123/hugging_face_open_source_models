{
 "cells": [
  {
   "cell_type": "code",
   "execution_count": 1,
   "id": "c44680c6-6eaa-4c69-b375-8a896811ea0a",
   "metadata": {},
   "outputs": [
    {
     "name": "stderr",
     "output_type": "stream",
     "text": [
      "/Users/anoopmishra/Repositories/anoop/HuggingFace/.venv/lib/python3.13/site-packages/tqdm/auto.py:21: TqdmWarning: IProgress not found. Please update jupyter and ipywidgets. See https://ipywidgets.readthedocs.io/en/stable/user_install.html\n",
      "  from .autonotebook import tqdm as notebook_tqdm\n"
     ]
    }
   ],
   "source": [
    "from transformers import pipeline\n",
    "import torch"
   ]
  },
  {
   "cell_type": "code",
   "execution_count": 3,
   "id": "fdea7555-6349-417f-9c1d-41cf297c2d8a",
   "metadata": {},
   "outputs": [
    {
     "name": "stderr",
     "output_type": "stream",
     "text": [
      "Device set to use mps:0\n"
     ]
    }
   ],
   "source": [
    "summarizer = pipeline(task=\"summarization\", model=\"facebook/bart-large-cnn\", torch_dtype=torch.bfloat16)\n"
   ]
  },
  {
   "cell_type": "code",
   "execution_count": 4,
   "id": "af8e8399-6b12-4027-84df-28e83d4d302d",
   "metadata": {},
   "outputs": [],
   "source": [
    "text = \"\"\"\n",
    "        The Great Barrier Reef, located off the coast of Queensland in northeastern Australia, is the world’s largest coral reef system, \n",
    "        stretching over 2,300 kilometers. Comprising thousands of individual reefs and hundreds of islands, \n",
    "        it supports a wide variety of marine life, including turtles, sharks, and vibrant coral species. \n",
    "        The reef is one of the most complex natural ecosystems on Earth and is visible from space. \n",
    "        Despite its beauty and ecological importance, it faces significant threats from climate change, \n",
    "        particularly coral bleaching caused by rising sea temperatures, as well as pollution and overfishing. \n",
    "        Conservation efforts are ongoing, with both local and international initiatives aimed at protecting and restoring the reef's health.\n",
    "        \"\"\"\n"
   ]
  },
  {
   "cell_type": "code",
   "execution_count": 6,
   "id": "a2d2a991-06f4-4bbe-81c9-7ba5ccdf5345",
   "metadata": {},
   "outputs": [],
   "source": [
    "summarized_text = summarizer(text, min_length=20,\n",
    "                     max_length=200)"
   ]
  },
  {
   "cell_type": "code",
   "execution_count": 7,
   "id": "4319090e-7ebb-4b18-a9a6-bf3546124886",
   "metadata": {},
   "outputs": [
    {
     "name": "stdout",
     "output_type": "stream",
     "text": [
      "[{'summary_text': 'The Great Barrier Reef is located off the coast of Queensland in northeastern Australia. The reef is one of the most complex natural ecosystems on Earth and is visible from space. Despite its beauty and ecological importance, it faces significant threats from climate change, pollution and overfishing.'}]\n"
     ]
    }
   ],
   "source": [
    "print(summarized_text)"
   ]
  },
  {
   "cell_type": "code",
   "execution_count": null,
   "id": "4df062c7-6dc7-4c7b-a9d6-fedfe4e259af",
   "metadata": {},
   "outputs": [],
   "source": []
  }
 ],
 "metadata": {
  "kernelspec": {
   "display_name": "venv",
   "language": "python",
   "name": "venv"
  },
  "language_info": {
   "codemirror_mode": {
    "name": "ipython",
    "version": 3
   },
   "file_extension": ".py",
   "mimetype": "text/x-python",
   "name": "python",
   "nbconvert_exporter": "python",
   "pygments_lexer": "ipython3",
   "version": "3.13.3"
  }
 },
 "nbformat": 4,
 "nbformat_minor": 5
}
